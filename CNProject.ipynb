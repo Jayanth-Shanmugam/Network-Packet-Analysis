{
 "cells": [
  {
   "cell_type": "code",
   "execution_count": 13,
   "metadata": {},
   "outputs": [],
   "source": [
    "#Python script to analyze the traffic captured through wireshark and separate traffic based on application layer protocols\n",
    "#and display the statistics such as total packets and the average packet length of eac application layer protocol.\n",
    "\n",
    "import pandas as pd\n",
    "import matplotlib.pyplot as plt"
   ]
  },
  {
   "cell_type": "code",
   "execution_count": 3,
   "metadata": {},
   "outputs": [
    {
     "name": "stdout",
     "output_type": "stream",
     "text": [
      "Protocol\n",
      "DHCP           2\n",
      "DNS         1440\n",
      "FTP           47\n",
      "FTP-DATA     320\n",
      "HTTP          11\n",
      "OCSP         166\n",
      "TLSv1.2     2113\n",
      "TLSv1.3     7261\n",
      "Name: Source, dtype: int64\n"
     ]
    }
   ],
   "source": [
    "def get_App_count(net_traffic):\n",
    "    \"\"\"Function to read traffic file and print the packet count of application layer protocols in the traffic\"\"\"\n",
    "    app_protocols = [\"HTTP\",\"OCSP\",\"TLSv1.2\",\"TLSv1.3\",\"FTP\",\"DNS\",\"DHCP\",\"FTP-DATA\"]\n",
    "    net_app_traffic = net_traffic[net_traffic.Protocol.isin(app_protocols)]\n",
    "    nt_app_proto_count = net_app_traffic.groupby('Protocol').Source.count()\n",
    "    print(nt_app_proto_count)\n",
    "\n",
    "net_traffic = pd.read_csv(\"CN_mini_traffic.csv\")\n",
    "app_protocols = [\"HTTP\",\"OCSP\",\"TLSv1.2\",\"TLSv1.3\",\"FTP\",\"DNS\",\"DHCP\",\"FTP-DATA\"]\n",
    "get_App_count(net_traffic)\n"
   ]
  },
  {
   "cell_type": "code",
   "execution_count": 5,
   "metadata": {},
   "outputs": [
    {
     "data": {
      "text/html": [
       "<div>\n",
       "<style scoped>\n",
       "    .dataframe tbody tr th:only-of-type {\n",
       "        vertical-align: middle;\n",
       "    }\n",
       "\n",
       "    .dataframe tbody tr th {\n",
       "        vertical-align: top;\n",
       "    }\n",
       "\n",
       "    .dataframe thead th {\n",
       "        text-align: right;\n",
       "    }\n",
       "</style>\n",
       "<table border=\"1\" class=\"dataframe\">\n",
       "  <thead>\n",
       "    <tr style=\"text-align: right;\">\n",
       "      <th></th>\n",
       "      <th>No.</th>\n",
       "      <th>Time</th>\n",
       "      <th>Source</th>\n",
       "      <th>Destination</th>\n",
       "      <th>Protocol</th>\n",
       "      <th>Length</th>\n",
       "      <th>Info</th>\n",
       "    </tr>\n",
       "  </thead>\n",
       "  <tbody>\n",
       "    <tr>\n",
       "      <td>0</td>\n",
       "      <td>1</td>\n",
       "      <td>0.000000</td>\n",
       "      <td>Routerbo_37:e9:7d</td>\n",
       "      <td>Broadcast</td>\n",
       "      <td>ARP</td>\n",
       "      <td>60</td>\n",
       "      <td>Who has 10.145.2.62? Tell 10.145.0.2</td>\n",
       "    </tr>\n",
       "    <tr>\n",
       "      <td>1</td>\n",
       "      <td>2</td>\n",
       "      <td>0.305410</td>\n",
       "      <td>Routerbo_37:e9:7d</td>\n",
       "      <td>Broadcast</td>\n",
       "      <td>ARP</td>\n",
       "      <td>60</td>\n",
       "      <td>Who has 10.145.2.62? Tell 10.145.0.2</td>\n",
       "    </tr>\n",
       "    <tr>\n",
       "      <td>2</td>\n",
       "      <td>3</td>\n",
       "      <td>0.613671</td>\n",
       "      <td>Routerbo_37:e9:7d</td>\n",
       "      <td>Broadcast</td>\n",
       "      <td>ARP</td>\n",
       "      <td>60</td>\n",
       "      <td>Who has 10.145.2.62? Tell 10.145.0.2</td>\n",
       "    </tr>\n",
       "    <tr>\n",
       "      <td>3</td>\n",
       "      <td>4</td>\n",
       "      <td>1.226490</td>\n",
       "      <td>Routerbo_37:e9:7d</td>\n",
       "      <td>Broadcast</td>\n",
       "      <td>ARP</td>\n",
       "      <td>60</td>\n",
       "      <td>Who has 10.145.2.62? Tell 10.145.0.2</td>\n",
       "    </tr>\n",
       "    <tr>\n",
       "      <td>4</td>\n",
       "      <td>5</td>\n",
       "      <td>3.479619</td>\n",
       "      <td>Routerbo_37:e9:7d</td>\n",
       "      <td>Broadcast</td>\n",
       "      <td>ARP</td>\n",
       "      <td>60</td>\n",
       "      <td>Who has 10.145.3.199? Tell 10.145.0.2</td>\n",
       "    </tr>\n",
       "  </tbody>\n",
       "</table>\n",
       "</div>"
      ],
      "text/plain": [
       "   No.      Time             Source Destination Protocol  Length  \\\n",
       "0    1  0.000000  Routerbo_37:e9:7d   Broadcast      ARP      60   \n",
       "1    2  0.305410  Routerbo_37:e9:7d   Broadcast      ARP      60   \n",
       "2    3  0.613671  Routerbo_37:e9:7d   Broadcast      ARP      60   \n",
       "3    4  1.226490  Routerbo_37:e9:7d   Broadcast      ARP      60   \n",
       "4    5  3.479619  Routerbo_37:e9:7d   Broadcast      ARP      60   \n",
       "\n",
       "                                    Info  \n",
       "0   Who has 10.145.2.62? Tell 10.145.0.2  \n",
       "1   Who has 10.145.2.62? Tell 10.145.0.2  \n",
       "2   Who has 10.145.2.62? Tell 10.145.0.2  \n",
       "3   Who has 10.145.2.62? Tell 10.145.0.2  \n",
       "4  Who has 10.145.3.199? Tell 10.145.0.2  "
      ]
     },
     "execution_count": 5,
     "metadata": {},
     "output_type": "execute_result"
    }
   ],
   "source": [
    "net_traffic.head()"
   ]
  },
  {
   "cell_type": "code",
   "execution_count": 6,
   "metadata": {},
   "outputs": [
    {
     "data": {
      "text/plain": [
       "array(['ARP', 'DNS', 'TCP', 'TLSv1.3', 'HTTP', 'OCSP', 'TLSv1.2', 'QUIC',\n",
       "       'SSLv2', 'MNDP', 'DHCP', 'IGMPv3', 'ICMPv6', 'MDNS', 'LLMNR',\n",
       "       'ICMP', 'FTP', 'FTP-DATA'], dtype=object)"
      ]
     },
     "execution_count": 6,
     "metadata": {},
     "output_type": "execute_result"
    }
   ],
   "source": [
    "net_traffic.Protocol.unique()"
   ]
  },
  {
   "cell_type": "code",
   "execution_count": 7,
   "metadata": {},
   "outputs": [
    {
     "data": {
      "text/plain": [
       "712.7924015827242"
      ]
     },
     "execution_count": 7,
     "metadata": {},
     "output_type": "execute_result"
    }
   ],
   "source": [
    "net_traffic.Length.mean()"
   ]
  },
  {
   "cell_type": "code",
   "execution_count": 8,
   "metadata": {},
   "outputs": [
    {
     "name": "stdout",
     "output_type": "stream",
     "text": [
      "Protocol\n",
      "ARP           295\n",
      "DHCP            2\n",
      "DNS          1440\n",
      "FTP            47\n",
      "FTP-DATA      320\n",
      "HTTP           11\n",
      "ICMP            9\n",
      "ICMPv6          5\n",
      "IGMPv3          5\n",
      "LLMNR           2\n",
      "MDNS            8\n",
      "MNDP            4\n",
      "OCSP          166\n",
      "QUIC        31034\n",
      "SSLv2           7\n",
      "TCP         16915\n",
      "TLSv1.2      2113\n",
      "TLSv1.3      7261\n",
      "Name: Source, dtype: int64\n"
     ]
    }
   ],
   "source": [
    "net_traffic_g=net_traffic.groupby('Protocol').Source.count()\n",
    "print(net_traffic_g)"
   ]
  },
  {
   "cell_type": "code",
   "execution_count": 9,
   "metadata": {},
   "outputs": [
    {
     "data": {
      "text/plain": [
       "Protocol\n",
       "DHCP            2\n",
       "LLMNR           2\n",
       "MNDP            4\n",
       "IGMPv3          5\n",
       "ICMPv6          5\n",
       "SSLv2           7\n",
       "MDNS            8\n",
       "ICMP            9\n",
       "HTTP           11\n",
       "FTP            47\n",
       "OCSP          166\n",
       "ARP           295\n",
       "FTP-DATA      320\n",
       "DNS          1440\n",
       "TLSv1.2      2113\n",
       "TLSv1.3      7261\n",
       "TCP         16915\n",
       "QUIC        31034\n",
       "Name: Source, dtype: int64"
      ]
     },
     "execution_count": 9,
     "metadata": {},
     "output_type": "execute_result"
    }
   ],
   "source": [
    "net_traffic_g.sort_values()"
   ]
  },
  {
   "cell_type": "code",
   "execution_count": 15,
   "metadata": {},
   "outputs": [
    {
     "data": {
      "text/plain": [
       "<matplotlib.axes._subplots.AxesSubplot at 0x7fd03a51f350>"
      ]
     },
     "execution_count": 15,
     "metadata": {},
     "output_type": "execute_result"
    },
    {
     "data": {
      "image/png": "[encoded data removed]",
      "text/plain": [
       "<Figure size 432x288 with 1 Axes>"
      ]
     },
     "metadata": {
      "needs_background": "light"
     },
     "output_type": "display_data"
    }
   ],
   "source": [
    "net_traffic[net_traffic['Protocol']=='TCP'].Length.hist(bins=15)\n",
    "#Most packets between 0-200 bytes"
   ]
  },
  {
   "cell_type": "code",
   "execution_count": 17,
   "metadata": {},
   "outputs": [
    {
     "data": {
      "text/plain": [
       "<matplotlib.axes._subplots.AxesSubplot at 0x7fd03a9b4f10>"
      ]
     },
     "execution_count": 17,
     "metadata": {},
     "output_type": "execute_result"
    },
    {
     "data": {
      "image/png": "[encoded data removed]",
      "text/plain": [
       "<Figure size 432x288 with 1 Axes>"
      ]
     },
     "metadata": {
      "needs_background": "light"
     },
     "output_type": "display_data"
    }
   ],
   "source": [
    "net_traffic[net_traffic['Protocol']=='QUIC'].Length.hist(bins=15)\n",
    "#Most Packets between 1200-1400 bytes"
   ]
  },
  {
   "cell_type": "code",
   "execution_count": 18,
   "metadata": {},
   "outputs": [
    {
     "data": {
      "text/plain": [
       "<matplotlib.axes._subplots.AxesSubplot at 0x7fd03b0cfc10>"
      ]
     },
     "execution_count": 18,
     "metadata": {},
     "output_type": "execute_result"
    },
    {
     "data": {
      "image/png": "[encoded data removed]",
      "text/plain": [
       "<Figure size 432x288 with 1 Axes>"
      ]
     },
     "metadata": {
      "needs_background": "light"
     },
     "output_type": "display_data"
    }
   ],
   "source": [
    "#Calculate the sum of Length for each protocol and display it in a bar plot.Divide by 1024/1024 to convert bytes to MBytes\n",
    "net_traffic_s=net_traffic.groupby('Protocol').Length.sum()\n",
    "net_traffic_s_mb=net_traffic_s/(1024*1024)\n",
    "net_traffic_s_mb.plot(kind='bar')"
   ]
  },
  {
   "cell_type": "code",
   "execution_count": 20,
   "metadata": {},
   "outputs": [
    {
     "data": {
      "text/plain": [
       "<matplotlib.axes._subplots.AxesSubplot at 0x7fd03a4921d0>"
      ]
     },
     "execution_count": 20,
     "metadata": {},
     "output_type": "execute_result"
    },
    {
     "data": {
      "image/png": "[encoded data removed]",
      "text/plain": [
       "<Figure size 432x288 with 1 Axes>"
      ]
     },
     "metadata": {
      "needs_background": "light"
     },
     "output_type": "display_data"
    }
   ],
   "source": [
    "#Print the packet count by protocol\n",
    "net_traffic_p=net_traffic.groupby('Protocol').Source.count()\n",
    "net_traffic_p.plot(kind='bar')"
   ]
  },
  {
   "cell_type": "code",
   "execution_count": 21,
   "metadata": {},
   "outputs": [
    {
     "data": {
      "text/plain": [
       "<matplotlib.axes._subplots.AxesSubplot at 0x7fd03b40c0d0>"
      ]
     },
     "execution_count": 21,
     "metadata": {},
     "output_type": "execute_result"
    },
    {
     "data": {
      "image/png": "[encoded data removed]",
      "text/plain": [
       "<Figure size 432x288 with 1 Axes>"
      ]
     },
     "metadata": {
      "needs_background": "light"
     },
     "output_type": "display_data"
    }
   ],
   "source": [
    "#Divide the total packet size by the packet count to find the average packet size\n",
    "net_traffic_ap=net_traffic_s/net_traffic_p\n",
    "net_traffic_ap.plot(kind='bar')\n"
   ]
  },
  {
   "cell_type": "code",
   "execution_count": null,
   "metadata": {},
   "outputs": [],
   "source": []
  }
 ],
 "metadata": {
  "kernelspec": {
   "display_name": "Python 3",
   "language": "python",
   "name": "python3"
  },
  "language_info": {
   "codemirror_mode": {
    "name": "ipython",
    "version": 3
   },
   "file_extension": ".py",
   "mimetype": "text/x-python",
   "name": "python",
   "nbconvert_exporter": "python",
   "pygments_lexer": "ipython3",
   "version": "3.7.4"
  }
 },
 "nbformat": 4,
 "nbformat_minor": 2
}
